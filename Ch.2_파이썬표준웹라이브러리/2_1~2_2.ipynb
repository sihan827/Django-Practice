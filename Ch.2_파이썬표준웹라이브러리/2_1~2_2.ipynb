{
 "cells": [
  {
   "attachments": {},
   "cell_type": "markdown",
   "metadata": {},
   "source": [
    "## Chapter 02: 파이썬 웹 표준 라이브러리\n",
    "\n",
    "### 2.1 웹 라이브러리 구성\n",
    "- 아래 표처럼 클라이언트용 라이브러리와 서버용 라이브러리로 구성\n",
    "\n",
    "|웹 클라이언트 프로그래밍|웹 서버 프로그래밍|\n",
    "|----------------------|-----------------|\n",
    "|urllib 패키지: 고수준 API 제공|웹 프레임워크|\n",
    "|http 패키지: 저수준 API 제공|http 패키지: 저수준 API 제공|\n",
    "\n",
    "- 웹 클라이언트 프로그래밍 시에는 주로 urllib 패키지 사용\n",
    "  - HTTP 프로토콜과 FTP 프로토콜 및 로컬 파일 등 처리 시 필요한 함수와 클래스 제공\n",
    "  - URL 처리 및 서버 액세스 관련 고수준 API 제공\n",
    "\n",
    "- 웹 서버 프로그래밍 시에는 웹 프레임워크를 사용하여 개발\n",
    "  - 사용자 프로그램과 저수준 http 패키지 사이에 위치하여 웹 서버 어플리케이션 프로그래밍을 편리하게 함\n",
    "\n",
    "### 2.2 웹 클라이언트 라이브러리\n",
    "\n",
    "#### 2.2.1 urllib.parse 모듈\n",
    "- `urllib.parse`는 URL의 분해, 조립, 변경 및 URL 문자 인코딩, 디코딩 등을 처리하는 함수를 제공함"
   ]
  },
  {
   "cell_type": "code",
   "execution_count": 1,
   "metadata": {},
   "outputs": [
    {
     "data": {
      "text/plain": [
       "ParseResult(scheme='http', netloc='www.python.org:80', path='/guido/python.html', params='philosopyh', query='overall=3', fragment='n10')"
      ]
     },
     "execution_count": 1,
     "metadata": {},
     "output_type": "execute_result"
    }
   ],
   "source": [
    "# urllib.parse의 대표적인 함수 urlparse 예시\n",
    "from urllib.parse import urlparse\n",
    "result = urlparse(\"http://www.python.org:80/guido/python.html;philosopyh?overall=3#n10\")\n",
    "result"
   ]
  },
  {
   "attachments": {},
   "cell_type": "markdown",
   "metadata": {},
   "source": [
    "- `urlparse` 함수는 URL을 파싱하여 결과를 `ParseResult` 인스턴스를 반환\n",
    "  - scheme: URL에 사용된 프로토콜\n",
    "  - netloc: `user:password@host:port` 형식으로 네트워크 위치 표시\n",
    "  - path: 파일 및 어플리케이션 경로 의미\n",
    "  - params: 어플리케이션에 전달될 매개변수 (지금은 사용 안함)\n",
    "  - query: 질의문자열 또는 매개변수로 `name=value` 형식으로 `&`으로 구분\n",
    "  - fragment: 문서 내의 특정 부분 지정, `#`으로 구분하며 앵커라고도 부름"
   ]
  },
  {
   "attachments": {},
   "cell_type": "markdown",
   "metadata": {},
   "source": [
    "\n",
    "#### 2.2.2 urllib.request 모듈\n",
    "\n",
    "- `urllib.request`은 주어진 URL에서 데이터를 가져오는 기능을 제공함\n",
    "- 대표적인 함수인 `urlopen`은 `urlopen(url, data=None, [timeout])`의 형식을 가짐\n",
    "  - 이를 통해 문자열이나 `Request` 객체 형식의 `URL` 인자를 연결하고 유사 객체 파일 반환\n",
    "  - URL에 파일 스킴을 지정하여 로컬 파일 열기 가능\n",
    "  - 기본 요청은 GET이고 서버에 전달할 파라미터는 질의문자열을 URL에 포함하여 전송\n",
    "  - POST 방식 요청은 `data` 인자에 질의문자열 지정하여 사용\n",
    "  - `timeout` 인자는 응답을 기다리는 초단위 시간\n",
    "- 다음은 상황별 `urlopen` 함수 사용법\n",
    "\n",
    "|사용 상황|사용 방법|\n",
    "|--------|---------|\n",
    "|URL로 GET/POST 방식의 간단한 요청 처리|`urlopen` 함수만으로 가능|\n",
    "|PUT, HEAD 메서드 등 헤더 조작이 필요한 경우|`Request` 클래스 같이 사용|\n",
    "|인증, 쿠키, 프록시 등의 복잡한 요청 처리|인증/쿠키/프록시 해당 핸들러 클래스를 같이 사용|"
   ]
  },
  {
   "cell_type": "code",
   "execution_count": 3,
   "metadata": {},
   "outputs": [
    {
     "data": {
      "text/plain": [
       "'<!doctype html>\\n<html>\\n<head>\\n    <title>Example Domain</title>\\n\\n    <meta charset=\"utf-8\" />\\n    <meta http-equiv=\"Content-type\" content=\"text/html; charset=utf-8\" />\\n    <meta name=\"viewport\" content=\"width=device-width, initial-scale=1\" />\\n    <style type=\"text/css\">\\n    body {\\n        background-color: #f0f0f2;\\n        margin: 0;\\n        padding: 0;\\n        font-family: -apple-system, system-ui, BlinkMacSystemFont, \"Segoe UI\", \"Open Sans\", \"Helvetica Neue\", Helvetica, Arial, sans-serif;\\n    '"
      ]
     },
     "execution_count": 3,
     "metadata": {},
     "output_type": "execute_result"
    }
   ],
   "source": [
    "# 예제 2-1: urlopen 함수 - GET 방식 요청\n",
    "# https://www.example.com의 응답으로부터 500바이트의 문자열을 읽어 출력\n",
    "from urllib.request import urlopen\n",
    "f =urlopen(\"https://www.example.com\")\n",
    "f.read(500).decode('utf-8')"
   ]
  },
  {
   "cell_type": "code",
   "execution_count": 6,
   "metadata": {},
   "outputs": [
    {
     "data": {
      "text/plain": [
       "'<!DOCTYPE html>\\n<html lang=\"ko\">\\n\\n\\n\\n\\n<head>\\n\\n    <meta charset=\"utf-8\">\\n    <meta http-equiv=\"X-UA-Compatible\" content=\"IE=edge\">\\n    <meta name=\"viewport\" content=\"width=device-width, initial-scale=1\">\\n\\n    <title>ch2-test-server</title>\\n\\n    <link rel=\"stylesheet\" href=\"https://maxcdn.bootstrapcdn.com/bootstrap/3.3.6/css/bootstrap.min.css\">\\n    <link rel=\"stylesheet\" href=\"https://maxcdn.bootstrapcdn.com/bootstrap/3.3.6/css/bootstrap-theme.min.css\">\\n\\n    <!-- my css -->\\n    <link rel=\"shortcut'"
      ]
     },
     "execution_count": 6,
     "metadata": {},
     "output_type": "execute_result"
    }
   ],
   "source": [
    "# 예제 2-2: urlopen 함수 - POST 방식 요청\n",
    "# data 인자로 URL에 허용된 바이트 스트링 형식의 문자열 전달\n",
    "from urllib.request import urlopen\n",
    "data = \"language=python&framework=django\"\n",
    "f = urlopen(\"http://127.0.0.1:8000\", bytes(data, encoding=\"utf-8\"))\n",
    "f.read(500).decode(\"utf-8\")"
   ]
  },
  {
   "cell_type": "code",
   "execution_count": 7,
   "metadata": {},
   "outputs": [
    {
     "name": "stdout",
     "output_type": "stream",
     "text": [
      "Date: Fri, 27 Jan 2023 18:55:54 GMT\n",
      "Server: WSGIServer/0.2 CPython/3.9.13\n",
      "Content-Type: text/html; charset=utf-8\n",
      "X-Frame-Options: DENY\n",
      "Content-Length: 2083\n",
      "X-Content-Type-Options: nosniff\n",
      "Referrer-Policy: same-origin\n",
      "Cross-Origin-Opener-Policy: same-origin\n",
      "\n",
      "\n"
     ]
    },
    {
     "data": {
      "text/plain": [
       "'<!DOCTYPE html>\\n<html lang=\"ko\">\\n\\n\\n\\n\\n<head>\\n\\n    <meta charset=\"utf-8\">\\n    <meta http-equiv=\"X-UA-Compatible\" content=\"IE=edge\">\\n    <meta name=\"viewport\" content=\"width=device-width, initial-scale=1\">\\n\\n    <title>ch2-test-server</title>\\n\\n    <link rel=\"stylesheet\" href=\"https://maxcdn.bootstrapcdn.com/bootstrap/3.3.6/css/bootstrap.min.css\">\\n    <link rel=\"stylesheet\" href=\"https://maxcdn.bootstrapcdn.com/bootstrap/3.3.6/css/bootstrap-theme.min.css\">\\n\\n    <!-- my css -->\\n    <link rel=\"shortcut'"
      ]
     },
     "execution_count": 7,
     "metadata": {},
     "output_type": "execute_result"
    }
   ],
   "source": [
    "# 예제 2-3: urlopen 함수 - Request 클래스로 요청 헤더 지정\n",
    "# urlencode 함수와 bytes 함수로 문자열을 url에 맞는 바이트 스트링형식의 문자열로 인코딩\n",
    "from urllib.request import urlopen, Request\n",
    "from urllib.parse import urlencode\n",
    "\n",
    "url = \"http://127.0.0.1:8000\"\n",
    "data = {\n",
    "    'name': '홍길동',\n",
    "    'email': 'hong@naver.com',\n",
    "    'url': 'https://www.naver.com',\n",
    "}\n",
    "encData = urlencode(data)\n",
    "postData = bytes(encData, encoding='utf-8')\n",
    "req = Request(url, data=postData)\n",
    "req.add_header('Content-Type', 'application/x-www-form-urlencoded')\n",
    "f = urlopen(req)\n",
    "print(f.headers)\n",
    "f.read(500).decode('utf-8')"
   ]
  },
  {
   "cell_type": "code",
   "execution_count": 9,
   "metadata": {},
   "outputs": [
    {
     "data": {
      "text/plain": [
       "'This is Basic Auth Success Response.'"
      ]
     },
     "execution_count": 9,
     "metadata": {},
     "output_type": "execute_result"
    }
   ],
   "source": [
    "# 예제 2-4: urlopen 함수 - HTTPBasicAuthHandler 클래스를 통한 인증 요청\n",
    "# 각 기능에 맞는 핸들러 객체를 build_opener로 오프너에 등록하여 open\n",
    "# realm, user, passwd의 정보 전송\n",
    "# realm: 보안 영역을 지정하는 파라미터로 user, passwd는 동일한 보안 영역에서만 유효\n",
    "# 서버로부터 받는 401 응답으로 realm을 알고 이를 추출하여 헤더에 담아 재요청하는 기능은 클래스가 실행\n",
    "from urllib.request import HTTPBasicAuthHandler, build_opener\n",
    "\n",
    "auth_handler = HTTPBasicAuthHandler()\n",
    "auth_handler.add_password(\n",
    "    realm='ksh', user='shkim', passwd='shkimadmin', uri='http://127.0.0.1:8000/auth/'\n",
    ")\n",
    "opener = build_opener(auth_handler)\n",
    "resp = opener.open('http://127.0.0.1:8000/auth/')\n",
    "resp.read().decode('utf-8')"
   ]
  },
  {
   "cell_type": "code",
   "execution_count": 11,
   "metadata": {},
   "outputs": [
    {
     "name": "stdout",
     "output_type": "stream",
     "text": [
      "< first Response after GET Request >\n",
      "\n",
      "Date: Sat, 28 Jan 2023 01:58:26 GMT\n",
      "Server: WSGIServer/0.2 CPython/3.9.13\n",
      "Content-Type: text/html; charset=utf-8\n",
      "X-Frame-Options: DENY\n",
      "Content-Length: 33\n",
      "Vary: Cookie\n",
      "X-Content-Type-Options: nosniff\n",
      "Referrer-Policy: same-origin\n",
      "Cross-Origin-Opener-Policy: same-origin\n",
      "Set-Cookie: sessionid=ksazaw4f4dod7gzliq5l9o850gtov2nt; expires=Sat, 11 Feb 2023 01:58:26 GMT; HttpOnly; Max-Age=1209600; Path=/; SameSite=Lax\n",
      "\n",
      "\n",
      "Django have set sessionid cookie.\n",
      "-----------------------------------------------------------\n",
      "< second Response after POST Request >\n",
      "\n",
      "Date: Sat, 28 Jan 2023 01:58:26 GMT\n",
      "Server: WSGIServer/0.2 CPython/3.9.13\n",
      "Content-Type: text/html; charset=utf-8\n",
      "X-Frame-Options: DENY\n",
      "Content-Length: 70\n",
      "Vary: Cookie\n",
      "X-Content-Type-Options: nosniff\n",
      "Referrer-Policy: same-origin\n",
      "Cross-Origin-Opener-Policy: same-origin\n",
      "Set-Cookie: sessionid=ksazaw4f4dod7gzliq5l9o850gtov2nt; expires=Sat, 11 Feb 2023 01:58:26 GMT; HttpOnly; Max-Age=1209600; Path=/; SameSite=Lax\n",
      "\n",
      "\n",
      "OK. Cookie received: {'sessionid': 'ksazaw4f4dod7gzliq5l9o850gtov2nt'}\n"
     ]
    }
   ],
   "source": [
    "# 예제 2-5: urlopen 함수 - HTTPCookieProcessor 클래스로 쿠키 데이터 포함하여 요청\n",
    "# 첫번째 요청에서 쿠키를 요청하고 두번째 요청에 첫번째 응답에서 받은 쿠키(sessionid)를 담아 전송\n",
    "# 쿠키 없을 시 에러 전송\n",
    "from urllib.request import Request, HTTPCookieProcessor, build_opener\n",
    "\n",
    "url = \"http://127.0.0.1:8000/cookie/\"\n",
    "\n",
    "# 쿠키를 요청하는 첫번째 요청(GET)\n",
    "# 쿠키 핸들러 생성, 쿠키 데이터 저장 시 디폴트로 CookieJar 객체 사용\n",
    "cookie_handler = HTTPCookieProcessor()\n",
    "opener = build_opener(cookie_handler)\n",
    "\n",
    "req = Request(url)\n",
    "resp = opener.open(req)\n",
    "\n",
    "print(\"< first Response after GET Request >\\n\")\n",
    "print(resp.headers)\n",
    "print(resp.read().decode('utf-8'))\n",
    "\n",
    "# 쿠키를 포함하는 두번째 요청(POST)\n",
    "print(\"-----------------------------------------------------------\")\n",
    "data = \"langauge=python&framework=django\"\n",
    "encData = bytes(data, encoding='utf-8')\n",
    "\n",
    "req = Request(url, data=encData)\n",
    "resp = opener.open(req)\n",
    "\n",
    "print(\"< second Response after POST Request >\\n\")\n",
    "print(resp.headers)\n",
    "print(resp.read().decode('utf-8'))"
   ]
  },
  {
   "cell_type": "code",
   "execution_count": null,
   "metadata": {},
   "outputs": [],
   "source": [
    "# 예제 2-6: urlopen 함수 - ProxyHandler 및 ProxyBasicAuthHandler 클래스로 프록시 처리\n",
    "# 이를 통해 프록시 서버를 통과하여 웹 서버로 요청 전달 가능\n",
    "# 프록시 서버가 없기에 코드 및 주석으로만 이해\n",
    "import urllib.request\n",
    "\n",
    "url = \"https://www.example.com\"\n",
    "proxyServer = 'https://www.proxy.com:3128'\n",
    "\n",
    "# 프록시 서버를 통해 웹 서버에 요청 전달\n",
    "proxy_handler = urllib.request.ProxyHandler({'http': proxyServer})\n",
    "\n",
    "# 프록시 서버 설정을 무시하고 웹 서버로 요청 전달\n",
    "# proxy_handler = urllib.requset.ProxyHander({})\n",
    "\n",
    "# 프록시 서버에 대한 인증 처리\n",
    "proxy_auth_handler = urllib.request.ProxyBasicAuthHandler()\n",
    "proxy_auth_handler.add_password('realm', 'host', 'username', 'password')\n",
    "\n",
    "# 핸들러 2개를 오프너에 등록\n",
    "opener = urllib.request.build_opener(proxy_handler, proxy_auth_handler)\n",
    "\n",
    "# 디폴트 오프너로 지정 시 urlopen 함수로 요청 전달 가능\n",
    "urllib.request.install_opener(opener)\n",
    "\n",
    "# opener.open() 대신 urlopen() 사용하여 요청 전송 및 응답 받기\n",
    "\n",
    "f = urllib.request.urlopen(url)\n",
    "print(\"geturl():\", f.geturl())\n",
    "print(f.read(300).decode('utf-8'))"
   ]
  }
 ],
 "metadata": {
  "kernelspec": {
   "display_name": "base",
   "language": "python",
   "name": "python3"
  },
  "language_info": {
   "codemirror_mode": {
    "name": "ipython",
    "version": 3
   },
   "file_extension": ".py",
   "mimetype": "text/x-python",
   "name": "python",
   "nbconvert_exporter": "python",
   "pygments_lexer": "ipython3",
   "version": "3.9.13"
  },
  "orig_nbformat": 4,
  "vscode": {
   "interpreter": {
    "hash": "83db2342385cf2bd41f1eb49df0091e0e69eaad3390aeaaf3bdb9725b3e9db76"
   }
  }
 },
 "nbformat": 4,
 "nbformat_minor": 2
}
