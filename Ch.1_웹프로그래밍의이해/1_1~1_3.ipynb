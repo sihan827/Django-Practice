{
 "cells": [
  {
   "attachments": {},
   "cell_type": "markdown",
   "metadata": {},
   "source": [
    "## Chapter 01: 웹 프로그래밍의 이해\n",
    "\n",
    "### 1.1 웹 프로그래밍이란?\n",
    "- HTTP/HTTPS 프로토콜로 통신하는 웹 클라이언트와 웹 서버를 개발하는 일\n",
    "- 보통 웹 프레임워크를 이용하여 웹 서버를 개발하는 일을 총칭\n",
    "- 클라이언트는 HTTP/HTTPS 프로토콜로 서버에 요청\n",
    "- 서버는 HTTP/HTTPS 프로토콜로 클라이언트에 응답\n",
    "- 웹 서버에 요청을 보내는 4가지 방법\n",
    "  - 웹 브라우저를 통한 요청\n",
    "  - 리눅스 `curl`을 통한 요청\n",
    "  - 리눅스 `telnet`을 통한 요청\n",
    "  - 개발한 클라이언트를 통한 요청\n",
    "\n",
    "### 1.2 다양한 웹 클라이언트\n",
    "\n",
    "#### 1.2.1 웹 브라우저를 통한 요청\n",
    "- 웹 브라우저는 주소창의 URL을 해석하여 웹 서버에 HTTP 요청 전송\n",
    "- 웹 서버는 요청에 대한 응답 결과를 웹 브라우저로 전송\n",
    "- 웹 브라우저는 받은 응답 결과를 해석하여 표시\n",
    "\n",
    "#### 1.2.2 리눅스 `curl`을 통한 요청\n",
    "- 리눅스에서 `curl`을 통해 여러 가지 프로토콜을 사용하여 데이터 송수신\n",
    "- 아래 예시를 통해 HTML 텍스트를 응답으로 수신\n",
    "  ```bash\n",
    "  curl https://www.example.com\n",
    "  ```\n",
    "\n",
    "#### 1.2.3 리눅스 `telnet`을 통한 요청\n",
    "- 리눅스에서 `telnet`을 통해 입력한 내용 그대로 웹 서버로 전달\n",
    "- 아래 예시는 HTTP 프로토콜 규격에 맞는 요청을 전달하는 명령을 전달\n",
    "  ```bash\n",
    "  telnet www.example.com 80\n",
    "  ```\n",
    "\n",
    "#### 1.2.4 개발한 클라이언트를 통한 요청\n",
    "- 아래 예시는 파이썬 내장 웹 라이브러리를 통해 URL로 요청을 보내고 응답을 받는 코드\n",
    "  ```python\n",
    "  import urllib.request\n",
    "  print(urllib.request.urlopen(\"https://www.example.com\").read().decode('utf-8'))\n",
    "  ```\n",
    "\n",
    "### 1.3 프론트엔드와 백엔드\n",
    "- 프론트엔드(Frontend)는 클라이언트를 총칭하는 말\n",
    "- 백엔드(Backend)는 서버를 총칭하는 말 \n",
    "\n",
    "#### 1.3.1 프론트엔드 개발자가 하는 일\n",
    "- 사용자가 보는 화면을 개발\n",
    "- 웹 브라우저 내에서 동작하는 HTML, CSS, Javascript 프로그램 개발\n",
    "- 최근에는 React, Vue, Angular 등 JavaScript 기반의 개선된 프론트엔드 라이브러리를 사용\n",
    "\n",
    "#### 1.3.2 백엔드 개발자가 하는 일\n",
    "- 서버 내에서 웹사이트의 로직, 데이터 처리, 보안, 인증 등과 관련된 기능 개발\n",
    "- Python, Java, Node.js 등 다양한 프로그래밍 언어로 백엔드 개발 가능\n",
    "- Django, Spring, Express 등의 백엔드 프레임워크를 사용\n",
    "- Django는 Python 기반의 웹 프레임워크\n",
    "- Django는 DBMS에 데이터를 저장할 때 SQL 대신 ORM(Object Relational Mapping)이라는 문법을 사용\n",
    "- 클라이언트에 응답을 보낼 때 HTML, CSS, Javascript로 구현된 코드를 전송\n",
    "\n",
    "#### 1.3.3 HTML, CSS, JavaScript 프로그램의 위치\n",
    "- 일반적인 웹 개발의 순서는 다음과 같음\n",
    "  1. 프론트엔드 개발자가 HTML, CSS, Javascript로 구성되는 코드 구현\n",
    "  2. 개발된 프론트엔드 코드를 웹 서버의 정해진 경로에 저장\n",
    "  3. 웹 브라우저에서 요청을 보내면 웹 서버가 응답하여 경로로부터 프론트엔드 코드를 가져와 웹 브라우저로 전송\n",
    "  4. 응답을 받은 웹 브라우저는 받은 코드를 해석하여 표시 "
   ]
  }
 ],
 "metadata": {
  "kernelspec": {
   "display_name": "base",
   "language": "python",
   "name": "python3"
  },
  "language_info": {
   "name": "python",
   "version": "3.9.13 (main, Aug 25 2022, 23:51:50) [MSC v.1916 64 bit (AMD64)]"
  },
  "orig_nbformat": 4,
  "vscode": {
   "interpreter": {
    "hash": "83db2342385cf2bd41f1eb49df0091e0e69eaad3390aeaaf3bdb9725b3e9db76"
   }
  }
 },
 "nbformat": 4,
 "nbformat_minor": 2
}
